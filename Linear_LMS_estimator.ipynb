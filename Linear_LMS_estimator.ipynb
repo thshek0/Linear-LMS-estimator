{
  "nbformat": 4,
  "nbformat_minor": 0,
  "metadata": {
    "colab": {
      "name": "Linear LMS estimator",
      "provenance": [],
      "collapsed_sections": [],
      "authorship_tag": "ABX9TyO2VnFBPcb8aBR8nXx1GGr5",
      "include_colab_link": true
    },
    "kernelspec": {
      "name": "python3",
      "display_name": "Python 3"
    },
    "language_info": {
      "name": "python"
    }
  },
  "cells": [
    {
      "cell_type": "markdown",
      "metadata": {
        "id": "view-in-github",
        "colab_type": "text"
      },
      "source": [
        "<a href=\"https://colab.research.google.com/github/thshek0/Linear-LMS-estimator/blob/main/Linear_LMS_estimator.ipynb\" target=\"_parent\"><img src=\"https://colab.research.google.com/assets/colab-badge.svg\" alt=\"Open In Colab\"/></a>"
      ]
    },
    {
      "cell_type": "markdown",
      "source": [
        "# Linear Least Square Estimator (LLMS estimator)"
      ],
      "metadata": {
        "id": "tfnR65ua-14e"
      }
    },
    {
      "cell_type": "markdown",
      "source": [
        "Target: Estimate normal mean  \n",
        "> Prior: $\\Theta\\sim Uniform(0, 1)$  \n",
        "> Data: $X\\sim Normal(\\Theta, 1)$  \n",
        "\n",
        "Compare performance of Bayesian estimator (LLMS vs LMS vs MAP estimator)"
      ],
      "metadata": {
        "id": "UGrt5JtC976E"
      }
    },
    {
      "cell_type": "code",
      "execution_count": 2,
      "metadata": {
        "id": "61-grNnmlvwN"
      },
      "outputs": [],
      "source": [
        "import matplotlib.pyplot as plt\n",
        "import numpy as np\n",
        "from scipy.stats import norm\n",
        "import scipy.integrate as integrate\n",
        "from scipy import optimize"
      ]
    },
    {
      "cell_type": "markdown",
      "source": [
        "LMS estimate = $E[\\Theta | X] = \\int_{0}^{1} \\theta \\cdot f(x|\\theta)d\\theta$ (requires posterior)"
      ],
      "metadata": {
        "id": "u5PsRsAM2GHK"
      }
    },
    {
      "cell_type": "markdown",
      "source": [
        "LLMS estimate = $\\frac{ \\frac{E[\\Theta]}{Var[\\Theta]} + \\sum_{i=1}^{n} \\frac{x_i}{Var[W_i]} }{\\frac{1}{Var[\\Theta]} + \\sum_{i=1}^{n} \\frac{1}{Var[W_i]}} $,   where $W_i = X_i -\\Theta$ (all expectations and variances are calculate by hand)"
      ],
      "metadata": {
        "id": "WFjIFF4p3PwI"
      }
    },
    {
      "cell_type": "markdown",
      "source": [
        "MAP estimate = $argmax_{\\theta} f(x|\\theta)$ (requires posterior)"
      ],
      "metadata": {
        "id": "ypjMl6TI8WJI"
      }
    },
    {
      "cell_type": "markdown",
      "source": [
        "Conditional mean-squared error (MSE): $E[(\\Theta-\\hat{\\theta})^2|X=x] = E[\\Theta^2|X=x] -2\\hat{\\theta}E[\\Theta|X=x] + \\hat{\\theta^2}$"
      ],
      "metadata": {
        "id": "G_sXZN329CZ7"
      }
    },
    {
      "cell_type": "code",
      "source": [
        "class Sample:\n",
        "    def __init__(self, mean=0.5, sample_size=500):\n",
        "        self.sample_size = sample_size\n",
        "        self.mean = mean                                                                    # true mean\n",
        "        self.sample = self.regen_samples()                                                  # generate n samples from Normal\n",
        "        self.__post_constant = integrate.quad(self.__temp_posterior, 0, 1, limit=100)[0]    # f(x) in denominator of Bayes' rule\n",
        "        self.lms = self.lms_estimate()\n",
        "        self.llms = self.llms_estimate()\n",
        "        self.map_est = self.map_estimate()\n",
        "\n",
        "    # generate samples from Normal + update all attributes based on new posterior / samples\n",
        "    def regen_samples(self):\n",
        "        self.sample = norm.rvs(size=self.sample_size) + self.mean\n",
        "        self.__post_constant = integrate.quad(self.__temp_posterior, 0, 1, limit=100)[0]\n",
        "        self.lms_estimate()\n",
        "        self.llms_estimate()\n",
        "        self.map_estimate()\n",
        "        return self.sample\n",
        "\n",
        "    # posterior (not yet normalized)\n",
        "    def __temp_posterior(self, theta):\n",
        "        return np.prod(norm.pdf(self.sample, loc=theta))\n",
        "\n",
        "    # normalized posterior by Bayes' rule\n",
        "    def posterior(self, theta):\n",
        "        return self.__temp_posterior(theta) / self.__post_constant\n",
        "\n",
        "    # by conditional expectation calculation\n",
        "    def lms_estimate(self):\n",
        "        self.lms = integrate.quad(lambda x: x * self.posterior(x), 0, 1, limit=100)[0]\n",
        "        return self.lms\n",
        "\n",
        "    # by formula of llms\n",
        "    def llms_estimate(self):\n",
        "        exp_x = 1/2\n",
        "        var_x = 1/12\n",
        "        var_w = 11/12\n",
        "        self.llms = (exp_x / var_x + np.sum(self.sample) / var_w) / (1 / var_x + self.sample_size / var_w)\n",
        "        return self.llms\n",
        "\n",
        "    # finding maxima of posterior\n",
        "    def map_estimate(self):\n",
        "        self.map_est = optimize.fminbound(lambda x: -self.posterior(x), 0, 1, disp=False)\n",
        "        return self.map_est\n",
        "\n",
        "    # equivalent to conditional mse\n",
        "    def mse(self, theta):\n",
        "        output1 = integrate.quad(lambda x: x * x * self.posterior(x), 0, 1, limit=100)[0]\n",
        "        output2 = integrate.quad(lambda x: x * self.posterior(x), 0, 1, limit=100)[0]\n",
        "        return output1 - 2 * theta * output2 + theta ** 2"
      ],
      "metadata": {
        "id": "HMjg98kQVAva"
      },
      "execution_count": 3,
      "outputs": []
    },
    {
      "cell_type": "code",
      "source": [
        "temp = Sample(0.5, 500)"
      ],
      "metadata": {
        "colab": {
          "base_uri": "https://localhost:8080/"
        },
        "id": "7poBuSa_8qAe",
        "outputId": "d2c516dc-e468-4b93-809b-0557e94546d0"
      },
      "execution_count": 4,
      "outputs": [
        {
          "output_type": "stream",
          "name": "stderr",
          "text": [
            "/usr/local/lib/python3.7/dist-packages/ipykernel_launcher.py:30: IntegrationWarning: The maximum number of subdivisions (100) has been achieved.\n",
            "  If increasing the limit yields no improvement it is advised to analyze \n",
            "  the integrand in order to determine the difficulties.  If the position of a \n",
            "  local difficulty can be determined (singularity, discontinuity) one will \n",
            "  probably gain from splitting up the interval and calling the integrator \n",
            "  on the subranges.  Perhaps a special-purpose integrator should be used.\n"
          ]
        }
      ]
    },
    {
      "cell_type": "code",
      "source": [
        "x = np.linspace(0, 1, 1000)\n",
        "post_pt = np.array([temp.posterior(i) for i in x])\n",
        "\n",
        "fig, ax = plt.subplots(1, 1)\n",
        "ax.plot(x, post_pt, label='posterior pdf')\n",
        "plt.xlabel(r'$\\theta$')\n",
        "plt.ylabel('Posterior probability')\n",
        "plt.title('Posterior pdf (n=500)')"
      ],
      "metadata": {
        "colab": {
          "base_uri": "https://localhost:8080/",
          "height": 315
        },
        "id": "KGM9cQ6pX8B8",
        "outputId": "2fe0829c-04ba-40d3-e547-c13888e49f29"
      },
      "execution_count": 5,
      "outputs": [
        {
          "output_type": "execute_result",
          "data": {
            "text/plain": [
              "Text(0.5, 1.0, 'Posterior pdf (n=500)')"
            ]
          },
          "metadata": {},
          "execution_count": 5
        },
        {
          "output_type": "display_data",
          "data": {
            "text/plain": [
              "<Figure size 432x288 with 1 Axes>"
            ],
            "image/png": "[encoded data removed]"
          },
          "metadata": {
            "needs_background": "light"
          }
        }
      ]
    },
    {
      "cell_type": "code",
      "source": [
        "x = np.linspace(0, 1, 1000)\n",
        "fig, ax = plt.subplots(1, 1)\n",
        "plt.xlabel(r'$\\theta$')\n",
        "plt.ylabel('Error size')\n",
        "plt.title('Mean-squared error of different estimate (n=500, $\\mu=0.5, \\sigma$=1)')\n",
        "ax.plot(x, temp.mse(x), label='mean-squared error')\n",
        "plt.axvline(x=temp.mean, color='black', ls='--', label='True mean')\n",
        "plt.axvline(x=temp.map_est, color='b', ls='--', label='MAP estimate')\n",
        "plt.axvline(x=temp.llms, color='r', ls='--', label='LLMS estimate')\n",
        "plt.axvline(x=temp.lms, color='g', ls='--', label='LMS estimate')\n",
        "plt.legend(bbox_to_anchor=(1.0, 1), loc='upper left')\n",
        "# left = min(true_mean, map_est, llms, lms)\n",
        "# right = max(true_mean, map_est, llms, lms)\n",
        "\n",
        "# left = min(map_est, llms, lms)\n",
        "# right = max(map_est, llms, lms)\n",
        "\n",
        "# side_interval = (right - left) * 0.1\n",
        "# plt.xlim(left-side_interval, right+side_interval)"
      ],
      "metadata": {
        "colab": {
          "base_uri": "https://localhost:8080/",
          "height": 531
        },
        "id": "6nJNokqwaXi-",
        "outputId": "6e120497-7e5c-4300-b756-840d6208f93f"
      },
      "execution_count": 69,
      "outputs": [
        {
          "output_type": "stream",
          "name": "stderr",
          "text": [
            "/usr/local/lib/python3.7/dist-packages/ipykernel_launcher.py:48: IntegrationWarning: The maximum number of subdivisions (100) has been achieved.\n",
            "  If increasing the limit yields no improvement it is advised to analyze \n",
            "  the integrand in order to determine the difficulties.  If the position of a \n",
            "  local difficulty can be determined (singularity, discontinuity) one will \n",
            "  probably gain from splitting up the interval and calling the integrator \n",
            "  on the subranges.  Perhaps a special-purpose integrator should be used.\n",
            "/usr/local/lib/python3.7/dist-packages/ipykernel_launcher.py:49: IntegrationWarning: The maximum number of subdivisions (100) has been achieved.\n",
            "  If increasing the limit yields no improvement it is advised to analyze \n",
            "  the integrand in order to determine the difficulties.  If the position of a \n",
            "  local difficulty can be determined (singularity, discontinuity) one will \n",
            "  probably gain from splitting up the interval and calling the integrator \n",
            "  on the subranges.  Perhaps a special-purpose integrator should be used.\n"
          ]
        },
        {
          "output_type": "execute_result",
          "data": {
            "text/plain": [
              "<matplotlib.legend.Legend at 0x7f62b767d990>"
            ]
          },
          "metadata": {},
          "execution_count": 69
        },
        {
          "output_type": "display_data",
          "data": {
            "text/plain": [
              "<Figure size 432x288 with 1 Axes>"
            ],
            "image/png": "[encoded data removed]"
          },
          "metadata": {
            "needs_background": "light"
          }
        }
      ]
    },
    {
      "cell_type": "markdown",
      "source": [
        "Compare squared-error for different estimator in different true mean"
      ],
      "metadata": {
        "id": "Z_F2eE3Y_Hbl"
      }
    },
    {
      "cell_type": "code",
      "source": [
        "import pandas as pd\n",
        "\n",
        "df = pd.DataFrame(columns=['Mean', 'LMS', 'LLMS', 'MAP'])\n",
        "mean = np.linspace(0.1, 0.9, 17)\n",
        "repeat = 50\n",
        "for cnt, i in enumerate(mean):\n",
        "    sim = Sample(i, 200)\n",
        "    for j in range(repeat):\n",
        "        df.loc[cnt * repeat + j] = [sim.mean, sim.lms, sim.llms, sim.map_est]\n",
        "        sim.regen_samples()\n",
        "df"
      ],
      "metadata": {
        "colab": {
          "base_uri": "https://localhost:8080/",
          "height": 424
        },
        "id": "Ch7sFmzKvR9t",
        "outputId": "508f019f-ef46-43b6-9b6f-c4f020ef3933"
      },
      "execution_count": 70,
      "outputs": [
        {
          "output_type": "execute_result",
          "data": {
            "text/plain": [
              "     Mean       LMS      LLMS       MAP\n",
              "0     0.1  0.083974  0.082014  0.059025\n",
              "1     0.1  0.079110  0.073829  0.050389\n",
              "2     0.1  0.091217  0.093346  0.070980\n",
              "3     0.1  0.119414  0.130893  0.110591\n",
              "4     0.1  0.149686  0.164743  0.146304\n",
              "..    ...       ...       ...       ...\n",
              "845   0.9  0.924999  0.933519  0.957362\n",
              "846   0.9  0.837616  0.822094  0.839809\n",
              "847   0.9  0.849406  0.834301  0.852687\n",
              "848   0.9  0.906391  0.903104  0.925273\n",
              "849   0.9  0.835202  0.819637  0.837217\n",
              "\n",
              "[850 rows x 4 columns]"
            ],
            "text/html": [
              "\n",
              "  <div id=\"df-b10cf9e4-eadf-4947-b89b-745a35cfb3cd\">\n",
              "    <div class=\"colab-df-container\">\n",
              "      <div>\n",
              "<style scoped>\n",
              "    .dataframe tbody tr th:only-of-type {\n",
              "        vertical-align: middle;\n",
              "    }\n",
              "\n",
              "    .dataframe tbody tr th {\n",
              "        vertical-align: top;\n",
              "    }\n",
              "\n",
              "    .dataframe thead th {\n",
              "        text-align: right;\n",
              "    }\n",
              "</style>\n",
              "<table border=\"1\" class=\"dataframe\">\n",
              "  <thead>\n",
              "    <tr style=\"text-align: right;\">\n",
              "      <th></th>\n",
              "      <th>Mean</th>\n",
              "      <th>LMS</th>\n",
              "      <th>LLMS</th>\n",
              "      <th>MAP</th>\n",
              "    </tr>\n",
              "  </thead>\n",
              "  <tbody>\n",
              "    <tr>\n",
              "      <th>0</th>\n",
              "      <td>0.1</td>\n",
              "      <td>0.083974</td>\n",
              "      <td>0.082014</td>\n",
              "      <td>0.059025</td>\n",
              "    </tr>\n",
              "    <tr>\n",
              "      <th>1</th>\n",
              "      <td>0.1</td>\n",
              "      <td>0.079110</td>\n",
              "      <td>0.073829</td>\n",
              "      <td>0.050389</td>\n",
              "    </tr>\n",
              "    <tr>\n",
              "      <th>2</th>\n",
              "      <td>0.1</td>\n",
              "      <td>0.091217</td>\n",
              "      <td>0.093346</td>\n",
              "      <td>0.070980</td>\n",
              "    </tr>\n",
              "    <tr>\n",
              "      <th>3</th>\n",
              "      <td>0.1</td>\n",
              "      <td>0.119414</td>\n",
              "      <td>0.130893</td>\n",
              "      <td>0.110591</td>\n",
              "    </tr>\n",
              "    <tr>\n",
              "      <th>4</th>\n",
              "      <td>0.1</td>\n",
              "      <td>0.149686</td>\n",
              "      <td>0.164743</td>\n",
              "      <td>0.146304</td>\n",
              "    </tr>\n",
              "    <tr>\n",
              "      <th>...</th>\n",
              "      <td>...</td>\n",
              "      <td>...</td>\n",
              "      <td>...</td>\n",
              "      <td>...</td>\n",
              "    </tr>\n",
              "    <tr>\n",
              "      <th>845</th>\n",
              "      <td>0.9</td>\n",
              "      <td>0.924999</td>\n",
              "      <td>0.933519</td>\n",
              "      <td>0.957362</td>\n",
              "    </tr>\n",
              "    <tr>\n",
              "      <th>846</th>\n",
              "      <td>0.9</td>\n",
              "      <td>0.837616</td>\n",
              "      <td>0.822094</td>\n",
              "      <td>0.839809</td>\n",
              "    </tr>\n",
              "    <tr>\n",
              "      <th>847</th>\n",
              "      <td>0.9</td>\n",
              "      <td>0.849406</td>\n",
              "      <td>0.834301</td>\n",
              "      <td>0.852687</td>\n",
              "    </tr>\n",
              "    <tr>\n",
              "      <th>848</th>\n",
              "      <td>0.9</td>\n",
              "      <td>0.906391</td>\n",
              "      <td>0.903104</td>\n",
              "      <td>0.925273</td>\n",
              "    </tr>\n",
              "    <tr>\n",
              "      <th>849</th>\n",
              "      <td>0.9</td>\n",
              "      <td>0.835202</td>\n",
              "      <td>0.819637</td>\n",
              "      <td>0.837217</td>\n",
              "    </tr>\n",
              "  </tbody>\n",
              "</table>\n",
              "<p>850 rows × 4 columns</p>\n",
              "</div>\n",
              "      <button class=\"colab-df-convert\" onclick=\"convertToInteractive('df-b10cf9e4-eadf-4947-b89b-745a35cfb3cd')\"\n",
              "              title=\"Convert this dataframe to an interactive table.\"\n",
              "              style=\"display:none;\">\n",
              "        \n",
              "  <svg xmlns=\"http://www.w3.org/2000/svg\" height=\"24px\"viewBox=\"0 0 24 24\"\n",
              "       width=\"24px\">\n",
              "    <path d=\"M0 0h24v24H0V0z\" fill=\"none\"/>\n",
              "    <path d=\"M18.56 5.44l.94 2.06.94-2.06 2.06-.94-2.06-.94-.94-2.06-.94 2.06-2.06.94zm-11 1L8.5 8.5l.94-2.06 2.06-.94-2.06-.94L8.5 2.5l-.94 2.06-2.06.94zm10 10l.94 2.06.94-2.06 2.06-.94-2.06-.94-.94-2.06-.94 2.06-2.06.94z\"/><path d=\"M17.41 7.96l-1.37-1.37c-.4-.4-.92-.59-1.43-.59-.52 0-1.04.2-1.43.59L10.3 9.45l-7.72 7.72c-.78.78-.78 2.05 0 2.83L4 21.41c.39.39.9.59 1.41.59.51 0 1.02-.2 1.41-.59l7.78-7.78 2.81-2.81c.8-.78.8-2.07 0-2.86zM5.41 20L4 18.59l7.72-7.72 1.47 1.35L5.41 20z\"/>\n",
              "  </svg>\n",
              "      </button>\n",
              "      \n",
              "  <style>\n",
              "    .colab-df-container {\n",
              "      display:flex;\n",
              "      flex-wrap:wrap;\n",
              "      gap: 12px;\n",
              "    }\n",
              "\n",
              "    .colab-df-convert {\n",
              "      background-color: #E8F0FE;\n",
              "      border: none;\n",
              "      border-radius: 50%;\n",
              "      cursor: pointer;\n",
              "      display: none;\n",
              "      fill: #1967D2;\n",
              "      height: 32px;\n",
              "      padding: 0 0 0 0;\n",
              "      width: 32px;\n",
              "    }\n",
              "\n",
              "    .colab-df-convert:hover {\n",
              "      background-color: #E2EBFA;\n",
              "      box-shadow: 0px 1px 2px rgba(60, 64, 67, 0.3), 0px 1px 3px 1px rgba(60, 64, 67, 0.15);\n",
              "      fill: #174EA6;\n",
              "    }\n",
              "\n",
              "    [theme=dark] .colab-df-convert {\n",
              "      background-color: #3B4455;\n",
              "      fill: #D2E3FC;\n",
              "    }\n",
              "\n",
              "    [theme=dark] .colab-df-convert:hover {\n",
              "      background-color: #434B5C;\n",
              "      box-shadow: 0px 1px 3px 1px rgba(0, 0, 0, 0.15);\n",
              "      filter: drop-shadow(0px 1px 2px rgba(0, 0, 0, 0.3));\n",
              "      fill: #FFFFFF;\n",
              "    }\n",
              "  </style>\n",
              "\n",
              "      <script>\n",
              "        const buttonEl =\n",
              "          document.querySelector('#df-b10cf9e4-eadf-4947-b89b-745a35cfb3cd button.colab-df-convert');\n",
              "        buttonEl.style.display =\n",
              "          google.colab.kernel.accessAllowed ? 'block' : 'none';\n",
              "\n",
              "        async function convertToInteractive(key) {\n",
              "          const element = document.querySelector('#df-b10cf9e4-eadf-4947-b89b-745a35cfb3cd');\n",
              "          const dataTable =\n",
              "            await google.colab.kernel.invokeFunction('convertToInteractive',\n",
              "                                                     [key], {});\n",
              "          if (!dataTable) return;\n",
              "\n",
              "          const docLinkHtml = 'Like what you see? Visit the ' +\n",
              "            '<a target=\"_blank\" href=https://colab.research.google.com/notebooks/data_table.ipynb>data table notebook</a>'\n",
              "            + ' to learn more about interactive tables.';\n",
              "          element.innerHTML = '';\n",
              "          dataTable['output_type'] = 'display_data';\n",
              "          await google.colab.output.renderOutput(dataTable, element);\n",
              "          const docLink = document.createElement('div');\n",
              "          docLink.innerHTML = docLinkHtml;\n",
              "          element.appendChild(docLink);\n",
              "        }\n",
              "      </script>\n",
              "    </div>\n",
              "  </div>\n",
              "  "
            ]
          },
          "metadata": {},
          "execution_count": 70
        }
      ]
    },
    {
      "cell_type": "code",
      "source": [
        "df['LMS_se'] = (df['LMS'] - df['Mean'])**2\n",
        "df['LLMS_se'] = (df['LLMS'] - df['Mean'])**2\n",
        "df['MAP_se'] = (df['MAP'] - df['Mean'])**2\n",
        "\n",
        "mean_df = pd.DataFrame(columns=['Mean', 'LMS', 'LLMS', 'MAP', 'LMS_se', 'LLMS_se', 'MAP_se'])\n",
        "# mean_df.loc[0] = df[df[\"Mean\"] == 0.1].mean()\n",
        "for cnt, i in enumerate(mean):\n",
        "    mean_df.loc[cnt] = df[df[\"Mean\"] == i].mean()\n",
        "mean_df\n",
        "# df.dtypes"
      ],
      "metadata": {
        "colab": {
          "base_uri": "https://localhost:8080/",
          "height": 583
        },
        "id": "VJTESiaJxmKY",
        "outputId": "dd498839-0470-4626-b5a8-5d2dee282898"
      },
      "execution_count": 71,
      "outputs": [
        {
          "output_type": "execute_result",
          "data": {
            "text/plain": [
              "    Mean       LMS      LLMS       MAP    LMS_se   LLMS_se    MAP_se\n",
              "0   0.10  0.122935  0.128576  0.108148  0.002715  0.003873  0.003468\n",
              "1   0.15  0.169306  0.180807  0.163252  0.004264  0.005233  0.004943\n",
              "2   0.20  0.188320  0.200975  0.184529  0.003774  0.003826  0.004497\n",
              "3   0.25  0.275525  0.287020  0.275306  0.005760  0.005994  0.005786\n",
              "4   0.30  0.299436  0.309688  0.299221  0.006806  0.006252  0.006855\n",
              "5   0.35  0.343932  0.352047  0.343909  0.004071  0.003633  0.004076\n",
              "6   0.40  0.387391  0.393248  0.387376  0.006090  0.005378  0.006095\n",
              "7   0.45  0.445063  0.447927  0.445062  0.004087  0.003654  0.004087\n",
              "8   0.50  0.516837  0.515960  0.516837  0.003996  0.003590  0.003996\n",
              "9   0.55  0.539304  0.537255  0.539304  0.004218  0.003849  0.004218\n",
              "10  0.60  0.586343  0.581844  0.586345  0.004935  0.004597  0.004936\n",
              "11  0.65  0.636943  0.629824  0.636964  0.007273  0.006794  0.007278\n",
              "12  0.70  0.692360  0.682431  0.692465  0.005635  0.005339  0.005656\n",
              "13  0.75  0.750915  0.739000  0.752145  0.004909  0.004805  0.005218\n",
              "14  0.80  0.796124  0.782879  0.798438  0.003548  0.003819  0.003927\n",
              "15  0.85  0.841316  0.832330  0.849394  0.003214  0.004655  0.004396\n",
              "16  0.90  0.890679  0.894298  0.911736  0.002860  0.005071  0.004771"
            ],
            "text/html": [
              "\n",
              "  <div id=\"df-f4ed1e09-ad4d-413f-b29b-9abce2ed2e9f\">\n",
              "    <div class=\"colab-df-container\">\n",
              "      <div>\n",
              "<style scoped>\n",
              "    .dataframe tbody tr th:only-of-type {\n",
              "        vertical-align: middle;\n",
              "    }\n",
              "\n",
              "    .dataframe tbody tr th {\n",
              "        vertical-align: top;\n",
              "    }\n",
              "\n",
              "    .dataframe thead th {\n",
              "        text-align: right;\n",
              "    }\n",
              "</style>\n",
              "<table border=\"1\" class=\"dataframe\">\n",
              "  <thead>\n",
              "    <tr style=\"text-align: right;\">\n",
              "      <th></th>\n",
              "      <th>Mean</th>\n",
              "      <th>LMS</th>\n",
              "      <th>LLMS</th>\n",
              "      <th>MAP</th>\n",
              "      <th>LMS_se</th>\n",
              "      <th>LLMS_se</th>\n",
              "      <th>MAP_se</th>\n",
              "    </tr>\n",
              "  </thead>\n",
              "  <tbody>\n",
              "    <tr>\n",
              "      <th>0</th>\n",
              "      <td>0.10</td>\n",
              "      <td>0.122935</td>\n",
              "      <td>0.128576</td>\n",
              "      <td>0.108148</td>\n",
              "      <td>0.002715</td>\n",
              "      <td>0.003873</td>\n",
              "      <td>0.003468</td>\n",
              "    </tr>\n",
              "    <tr>\n",
              "      <th>1</th>\n",
              "      <td>0.15</td>\n",
              "      <td>0.169306</td>\n",
              "      <td>0.180807</td>\n",
              "      <td>0.163252</td>\n",
              "      <td>0.004264</td>\n",
              "      <td>0.005233</td>\n",
              "      <td>0.004943</td>\n",
              "    </tr>\n",
              "    <tr>\n",
              "      <th>2</th>\n",
              "      <td>0.20</td>\n",
              "      <td>0.188320</td>\n",
              "      <td>0.200975</td>\n",
              "      <td>0.184529</td>\n",
              "      <td>0.003774</td>\n",
              "      <td>0.003826</td>\n",
              "      <td>0.004497</td>\n",
              "    </tr>\n",
              "    <tr>\n",
              "      <th>3</th>\n",
              "      <td>0.25</td>\n",
              "      <td>0.275525</td>\n",
              "      <td>0.287020</td>\n",
              "      <td>0.275306</td>\n",
              "      <td>0.005760</td>\n",
              "      <td>0.005994</td>\n",
              "      <td>0.005786</td>\n",
              "    </tr>\n",
              "    <tr>\n",
              "      <th>4</th>\n",
              "      <td>0.30</td>\n",
              "      <td>0.299436</td>\n",
              "      <td>0.309688</td>\n",
              "      <td>0.299221</td>\n",
              "      <td>0.006806</td>\n",
              "      <td>0.006252</td>\n",
              "      <td>0.006855</td>\n",
              "    </tr>\n",
              "    <tr>\n",
              "      <th>5</th>\n",
              "      <td>0.35</td>\n",
              "      <td>0.343932</td>\n",
              "      <td>0.352047</td>\n",
              "      <td>0.343909</td>\n",
              "      <td>0.004071</td>\n",
              "      <td>0.003633</td>\n",
              "      <td>0.004076</td>\n",
              "    </tr>\n",
              "    <tr>\n",
              "      <th>6</th>\n",
              "      <td>0.40</td>\n",
              "      <td>0.387391</td>\n",
              "      <td>0.393248</td>\n",
              "      <td>0.387376</td>\n",
              "      <td>0.006090</td>\n",
              "      <td>0.005378</td>\n",
              "      <td>0.006095</td>\n",
              "    </tr>\n",
              "    <tr>\n",
              "      <th>7</th>\n",
              "      <td>0.45</td>\n",
              "      <td>0.445063</td>\n",
              "      <td>0.447927</td>\n",
              "      <td>0.445062</td>\n",
              "      <td>0.004087</td>\n",
              "      <td>0.003654</td>\n",
              "      <td>0.004087</td>\n",
              "    </tr>\n",
              "    <tr>\n",
              "      <th>8</th>\n",
              "      <td>0.50</td>\n",
              "      <td>0.516837</td>\n",
              "      <td>0.515960</td>\n",
              "      <td>0.516837</td>\n",
              "      <td>0.003996</td>\n",
              "      <td>0.003590</td>\n",
              "      <td>0.003996</td>\n",
              "    </tr>\n",
              "    <tr>\n",
              "      <th>9</th>\n",
              "      <td>0.55</td>\n",
              "      <td>0.539304</td>\n",
              "      <td>0.537255</td>\n",
              "      <td>0.539304</td>\n",
              "      <td>0.004218</td>\n",
              "      <td>0.003849</td>\n",
              "      <td>0.004218</td>\n",
              "    </tr>\n",
              "    <tr>\n",
              "      <th>10</th>\n",
              "      <td>0.60</td>\n",
              "      <td>0.586343</td>\n",
              "      <td>0.581844</td>\n",
              "      <td>0.586345</td>\n",
              "      <td>0.004935</td>\n",
              "      <td>0.004597</td>\n",
              "      <td>0.004936</td>\n",
              "    </tr>\n",
              "    <tr>\n",
              "      <th>11</th>\n",
              "      <td>0.65</td>\n",
              "      <td>0.636943</td>\n",
              "      <td>0.629824</td>\n",
              "      <td>0.636964</td>\n",
              "      <td>0.007273</td>\n",
              "      <td>0.006794</td>\n",
              "      <td>0.007278</td>\n",
              "    </tr>\n",
              "    <tr>\n",
              "      <th>12</th>\n",
              "      <td>0.70</td>\n",
              "      <td>0.692360</td>\n",
              "      <td>0.682431</td>\n",
              "      <td>0.692465</td>\n",
              "      <td>0.005635</td>\n",
              "      <td>0.005339</td>\n",
              "      <td>0.005656</td>\n",
              "    </tr>\n",
              "    <tr>\n",
              "      <th>13</th>\n",
              "      <td>0.75</td>\n",
              "      <td>0.750915</td>\n",
              "      <td>0.739000</td>\n",
              "      <td>0.752145</td>\n",
              "      <td>0.004909</td>\n",
              "      <td>0.004805</td>\n",
              "      <td>0.005218</td>\n",
              "    </tr>\n",
              "    <tr>\n",
              "      <th>14</th>\n",
              "      <td>0.80</td>\n",
              "      <td>0.796124</td>\n",
              "      <td>0.782879</td>\n",
              "      <td>0.798438</td>\n",
              "      <td>0.003548</td>\n",
              "      <td>0.003819</td>\n",
              "      <td>0.003927</td>\n",
              "    </tr>\n",
              "    <tr>\n",
              "      <th>15</th>\n",
              "      <td>0.85</td>\n",
              "      <td>0.841316</td>\n",
              "      <td>0.832330</td>\n",
              "      <td>0.849394</td>\n",
              "      <td>0.003214</td>\n",
              "      <td>0.004655</td>\n",
              "      <td>0.004396</td>\n",
              "    </tr>\n",
              "    <tr>\n",
              "      <th>16</th>\n",
              "      <td>0.90</td>\n",
              "      <td>0.890679</td>\n",
              "      <td>0.894298</td>\n",
              "      <td>0.911736</td>\n",
              "      <td>0.002860</td>\n",
              "      <td>0.005071</td>\n",
              "      <td>0.004771</td>\n",
              "    </tr>\n",
              "  </tbody>\n",
              "</table>\n",
              "</div>\n",
              "      <button class=\"colab-df-convert\" onclick=\"convertToInteractive('df-f4ed1e09-ad4d-413f-b29b-9abce2ed2e9f')\"\n",
              "              title=\"Convert this dataframe to an interactive table.\"\n",
              "              style=\"display:none;\">\n",
              "        \n",
              "  <svg xmlns=\"http://www.w3.org/2000/svg\" height=\"24px\"viewBox=\"0 0 24 24\"\n",
              "       width=\"24px\">\n",
              "    <path d=\"M0 0h24v24H0V0z\" fill=\"none\"/>\n",
              "    <path d=\"M18.56 5.44l.94 2.06.94-2.06 2.06-.94-2.06-.94-.94-2.06-.94 2.06-2.06.94zm-11 1L8.5 8.5l.94-2.06 2.06-.94-2.06-.94L8.5 2.5l-.94 2.06-2.06.94zm10 10l.94 2.06.94-2.06 2.06-.94-2.06-.94-.94-2.06-.94 2.06-2.06.94z\"/><path d=\"M17.41 7.96l-1.37-1.37c-.4-.4-.92-.59-1.43-.59-.52 0-1.04.2-1.43.59L10.3 9.45l-7.72 7.72c-.78.78-.78 2.05 0 2.83L4 21.41c.39.39.9.59 1.41.59.51 0 1.02-.2 1.41-.59l7.78-7.78 2.81-2.81c.8-.78.8-2.07 0-2.86zM5.41 20L4 18.59l7.72-7.72 1.47 1.35L5.41 20z\"/>\n",
              "  </svg>\n",
              "      </button>\n",
              "      \n",
              "  <style>\n",
              "    .colab-df-container {\n",
              "      display:flex;\n",
              "      flex-wrap:wrap;\n",
              "      gap: 12px;\n",
              "    }\n",
              "\n",
              "    .colab-df-convert {\n",
              "      background-color: #E8F0FE;\n",
              "      border: none;\n",
              "      border-radius: 50%;\n",
              "      cursor: pointer;\n",
              "      display: none;\n",
              "      fill: #1967D2;\n",
              "      height: 32px;\n",
              "      padding: 0 0 0 0;\n",
              "      width: 32px;\n",
              "    }\n",
              "\n",
              "    .colab-df-convert:hover {\n",
              "      background-color: #E2EBFA;\n",
              "      box-shadow: 0px 1px 2px rgba(60, 64, 67, 0.3), 0px 1px 3px 1px rgba(60, 64, 67, 0.15);\n",
              "      fill: #174EA6;\n",
              "    }\n",
              "\n",
              "    [theme=dark] .colab-df-convert {\n",
              "      background-color: #3B4455;\n",
              "      fill: #D2E3FC;\n",
              "    }\n",
              "\n",
              "    [theme=dark] .colab-df-convert:hover {\n",
              "      background-color: #434B5C;\n",
              "      box-shadow: 0px 1px 3px 1px rgba(0, 0, 0, 0.15);\n",
              "      filter: drop-shadow(0px 1px 2px rgba(0, 0, 0, 0.3));\n",
              "      fill: #FFFFFF;\n",
              "    }\n",
              "  </style>\n",
              "\n",
              "      <script>\n",
              "        const buttonEl =\n",
              "          document.querySelector('#df-f4ed1e09-ad4d-413f-b29b-9abce2ed2e9f button.colab-df-convert');\n",
              "        buttonEl.style.display =\n",
              "          google.colab.kernel.accessAllowed ? 'block' : 'none';\n",
              "\n",
              "        async function convertToInteractive(key) {\n",
              "          const element = document.querySelector('#df-f4ed1e09-ad4d-413f-b29b-9abce2ed2e9f');\n",
              "          const dataTable =\n",
              "            await google.colab.kernel.invokeFunction('convertToInteractive',\n",
              "                                                     [key], {});\n",
              "          if (!dataTable) return;\n",
              "\n",
              "          const docLinkHtml = 'Like what you see? Visit the ' +\n",
              "            '<a target=\"_blank\" href=https://colab.research.google.com/notebooks/data_table.ipynb>data table notebook</a>'\n",
              "            + ' to learn more about interactive tables.';\n",
              "          element.innerHTML = '';\n",
              "          dataTable['output_type'] = 'display_data';\n",
              "          await google.colab.output.renderOutput(dataTable, element);\n",
              "          const docLink = document.createElement('div');\n",
              "          docLink.innerHTML = docLinkHtml;\n",
              "          element.appendChild(docLink);\n",
              "        }\n",
              "      </script>\n",
              "    </div>\n",
              "  </div>\n",
              "  "
            ]
          },
          "metadata": {},
          "execution_count": 71
        }
      ]
    },
    {
      "cell_type": "code",
      "source": [
        "fig, ax = plt.subplots(1, 1)\n",
        "plt.xlabel(r'True mean $\\theta$')\n",
        "plt.ylabel('Mean-squared error')\n",
        "plt.title('Performance of different estimator with different true mean (n=200, repeat 50 times)')\n",
        "ax.plot(mean_df['Mean'], mean_df['LMS_se'], label='LMS estimate')\n",
        "ax.plot(mean_df['Mean'], mean_df['LLMS_se'], label='LLMS estimate')\n",
        "ax.plot(mean_df['Mean'], mean_df['MAP_se'], label='MAP estimate')\n",
        "plt.legend(bbox_to_anchor=(1.0, 1), loc='upper left')"
      ],
      "metadata": {
        "colab": {
          "base_uri": "https://localhost:8080/",
          "height": 315
        },
        "id": "BWBOWpOZ16d1",
        "outputId": "70be7033-ffd5-4411-efe6-710a39f3e207"
      },
      "execution_count": 72,
      "outputs": [
        {
          "output_type": "execute_result",
          "data": {
            "text/plain": [
              "<matplotlib.legend.Legend at 0x7f62b75c6ed0>"
            ]
          },
          "metadata": {},
          "execution_count": 72
        },
        {
          "output_type": "display_data",
          "data": {
            "text/plain": [
              "<Figure size 432x288 with 1 Axes>"
            ],
            "image/png": "[encoded data removed]"
          },
          "metadata": {
            "needs_background": "light"
          }
        }
      ]
    },
    {
      "cell_type": "code",
      "source": [
        ""
      ],
      "metadata": {
        "id": "2hB9miiT_kUd"
      },
      "execution_count": 9,
      "outputs": []
    }
  ]
}